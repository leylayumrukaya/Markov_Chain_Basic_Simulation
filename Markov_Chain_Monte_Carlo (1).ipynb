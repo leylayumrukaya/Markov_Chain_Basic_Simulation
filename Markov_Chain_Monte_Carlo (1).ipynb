{
 "cells": [
  {
   "cell_type": "code",
   "execution_count": 1,
   "metadata": {},
   "outputs": [],
   "source": [
    "import numpy as np"
   ]
  },
  {
   "cell_type": "code",
   "execution_count": 2,
   "metadata": {},
   "outputs": [],
   "source": [
    "state = {\n",
    "    0: \"Healthy State\",\n",
    "    1: \"Progression\",\n",
    "    2: \"Death\"\n",
    "}"
   ]
  },
  {
   "cell_type": "code",
   "execution_count": 3,
   "metadata": {},
   "outputs": [
    {
     "name": "stdout",
     "output_type": "stream",
     "text": [
      "{0: 'Healthy State', 1: 'Progression', 2: 'Death'}\n"
     ]
    }
   ],
   "source": [
    "print(state)"
   ]
  },
  {
   "cell_type": "code",
   "execution_count": 4,
   "metadata": {},
   "outputs": [],
   "source": [
    "possibilities = np.array([[0.3, 0.4,0.3], [0.3,0,0.7], [0.5,0,0.5]])"
   ]
  },
  {
   "cell_type": "code",
   "execution_count": 5,
   "metadata": {},
   "outputs": [
    {
     "data": {
      "text/plain": [
       "array([[0.3, 0.4, 0.3],\n",
       "       [0.3, 0. , 0.7],\n",
       "       [0.5, 0. , 0.5]])"
      ]
     },
     "execution_count": 5,
     "metadata": {},
     "output_type": "execute_result"
    }
   ],
   "source": [
    "possibilities"
   ]
  },
  {
   "cell_type": "code",
   "execution_count": 14,
   "metadata": {},
   "outputs": [
    {
     "name": "stdout",
     "output_type": "stream",
     "text": [
      "Healthy State -**Progression -**Death -**Death -**Death -**Death -**Healthy State -**Death -**Healthy State -**Death -**Healthy State -**Progression -**Death -**Healthy State -**Healthy State -**done\n"
     ]
    }
   ],
   "source": [
    "n = 15\n",
    "first_state = 0\n",
    "current_state = start_state\n",
    "print(state[current_state], \"-\", end=\"**\")\n",
    "\n",
    "while n-1:\n",
    "    current_state = np.random.choice([0, 1, 2], p=possibilities[current_state])\n",
    "    print(state[current_state], \"-\", end=\"**\")\n",
    "    n-=1\n",
    "print(\"done\")"
   ]
  },
  {
   "cell_type": "code",
   "execution_count": 15,
   "metadata": {},
   "outputs": [
    {
     "name": "stdout",
     "output_type": "stream",
     "text": [
      "prob =  [0.390206 0.156409 0.453386]\n"
     ]
    }
   ],
   "source": [
    "steps = 10**6\n",
    "first_state = 0\n",
    "current_state = first_state\n",
    "prob = np.array([0, 0, 0])\n",
    "prob[first_state] = 1\n",
    "\n",
    "i = 0\n",
    "while i<steps:\n",
    "    current_state = np.random.choice([0,1,2], p=possibilities[current_state])\n",
    "    prob[current_state]+=1\n",
    "    i +=1\n",
    "\n",
    "print(\"prob = \", prob/steps)"
   ]
  },
  {
   "cell_type": "code",
   "execution_count": 10,
   "metadata": {},
   "outputs": [
    {
     "name": "stdout",
     "output_type": "stream",
     "text": [
      "possibilities^n = \n",
      " [[0.390625 0.15625  0.453125]\n",
      " [0.390625 0.15625  0.453125]\n",
      " [0.390625 0.15625  0.453125]] \n",
      "\n",
      "c =  [0.390625 0.15625  0.453125]\n"
     ]
    }
   ],
   "source": [
    "steps = 10**3\n",
    "possibilities_n = possibilities\n",
    "\n",
    "i=0\n",
    "while i<steps:\n",
    "    possibilities_n =  np.matmul(possibilities_n, possibilities)\n",
    "    i+=1\n",
    "\n",
    "print(\"possibilities^n = \\n\", possibilities_n, \"\\n\")\n",
    "print(\"c = \", possibilities_n[0])"
   ]
  },
  {
   "cell_type": "code",
   "execution_count": 16,
   "metadata": {},
   "outputs": [
    {
     "name": "stdout",
     "output_type": "stream",
     "text": [
      "left eigen vectors = \n",
      " [[ 0.63174837+0.j          0.15811388+0.41833001j  0.15811388-0.41833001j]\n",
      " [ 0.25269935+0.j         -0.63245553+0.j         -0.63245553-0.j        ]\n",
      " [ 0.73282811+0.j          0.47434165-0.41833001j  0.47434165+0.41833001j]] \n",
      "\n",
      "eigen values = \n",
      " [ 1. +0.j         -0.1+0.26457513j -0.1-0.26457513j]\n"
     ]
    }
   ],
   "source": [
    "import scipy.linalg\n",
    "values, left = scipy.linalg.eig(possibilities, right = False, left = True)\n",
    "\n",
    "print(\"left eigen vectors = \\n\", left, \"\\n\")\n",
    "print(\"eigen values = \\n\", values)"
   ]
  },
  {
   "cell_type": "code",
   "execution_count": 17,
   "metadata": {},
   "outputs": [
    {
     "data": {
      "text/plain": [
       "[0.3906249999999997, 0.15625000000000044, 0.4531249999999997]"
      ]
     },
     "execution_count": 17,
     "metadata": {},
     "output_type": "execute_result"
    }
   ],
   "source": [
    "possib = left[:,0]\n",
    "possib_normal = [(x/np.sum(possib)).real for x in possib]\n",
    "possib_normal"
   ]
  },
  {
   "cell_type": "code",
   "execution_count": 18,
   "metadata": {},
   "outputs": [
    {
     "name": "stdout",
     "output_type": "stream",
     "text": [
      "0.06835937499999994\n"
     ]
    }
   ],
   "source": [
    "def find_possib(seq, possibilities, possib):\n",
    "    first_state = seq[0]\n",
    "    possib_x = possib[start_state]\n",
    "    prev_state, current_state = first_state, first_state\n",
    "    for i in range(1, len(seq)):\n",
    "        current_state = seq[i]\n",
    "        possib_x *= possibilities[prev_state][current_state]\n",
    "        prev_state = current_state\n",
    "    return possib_x\n",
    "\n",
    "print(find_possib([1, 2, 2, 0], possibilities, possib_normal))"
   ]
  },
  {
   "cell_type": "code",
   "execution_count": null,
   "metadata": {},
   "outputs": [],
   "source": []
  },
  {
   "cell_type": "code",
   "execution_count": null,
   "metadata": {},
   "outputs": [],
   "source": []
  }
 ],
 "metadata": {
  "kernelspec": {
   "display_name": "Python 3",
   "language": "python",
   "name": "python3"
  },
  "language_info": {
   "codemirror_mode": {
    "name": "ipython",
    "version": 3
   },
   "file_extension": ".py",
   "mimetype": "text/x-python",
   "name": "python",
   "nbconvert_exporter": "python",
   "pygments_lexer": "ipython3",
   "version": "3.8.8"
  }
 },
 "nbformat": 4,
 "nbformat_minor": 4
}
